{
 "cells": [
  {
   "cell_type": "code",
   "execution_count": 16,
   "metadata": {},
   "outputs": [
    {
     "data": {
      "text/html": [
       "<div>\n",
       "<style scoped>\n",
       "    .dataframe tbody tr th:only-of-type {\n",
       "        vertical-align: middle;\n",
       "    }\n",
       "\n",
       "    .dataframe tbody tr th {\n",
       "        vertical-align: top;\n",
       "    }\n",
       "\n",
       "    .dataframe thead th {\n",
       "        text-align: right;\n",
       "    }\n",
       "</style>\n",
       "<table border=\"1\" class=\"dataframe\">\n",
       "  <thead>\n",
       "    <tr style=\"text-align: right;\">\n",
       "      <th></th>\n",
       "      <th>mre</th>\n",
       "      <th>mre_lm_0</th>\n",
       "      <th>mre_lm_1</th>\n",
       "      <th>mre_lm_2</th>\n",
       "      <th>mre_lm_3</th>\n",
       "      <th>mre_lm_4</th>\n",
       "      <th>mre_lm_5</th>\n",
       "      <th>mre_lm_6</th>\n",
       "      <th>mre_lm_7</th>\n",
       "      <th>mre_lm_8</th>\n",
       "      <th>...</th>\n",
       "      <th>mre_lm_10</th>\n",
       "      <th>mre_lm_11</th>\n",
       "      <th>mre_lm_12</th>\n",
       "      <th>mre_lm_13</th>\n",
       "      <th>mre_lm_14</th>\n",
       "      <th>mre_lm_15</th>\n",
       "      <th>mre_lm_16</th>\n",
       "      <th>mre_lm_17</th>\n",
       "      <th>mre_lm_18</th>\n",
       "      <th>record_time</th>\n",
       "    </tr>\n",
       "  </thead>\n",
       "  <tbody>\n",
       "    <tr>\n",
       "      <th>0</th>\n",
       "      <td>1.618365</td>\n",
       "      <td>1.303993</td>\n",
       "      <td>1.365833</td>\n",
       "      <td>1.855674</td>\n",
       "      <td>2.336209</td>\n",
       "      <td>1.990515</td>\n",
       "      <td>2.081534</td>\n",
       "      <td>1.293222</td>\n",
       "      <td>1.003807</td>\n",
       "      <td>1.111924</td>\n",
       "      <td>...</td>\n",
       "      <td>1.228982</td>\n",
       "      <td>1.22199</td>\n",
       "      <td>1.310788</td>\n",
       "      <td>1.445467</td>\n",
       "      <td>1.596004</td>\n",
       "      <td>2.931107</td>\n",
       "      <td>1.534811</td>\n",
       "      <td>1.733431</td>\n",
       "      <td>1.763074</td>\n",
       "      <td>0916-121804</td>\n",
       "    </tr>\n",
       "  </tbody>\n",
       "</table>\n",
       "<p>1 rows × 21 columns</p>\n",
       "</div>"
      ],
      "text/plain": [
       "        mre  mre_lm_0  mre_lm_1  mre_lm_2  mre_lm_3  mre_lm_4  mre_lm_5  \\\n",
       "0  1.618365  1.303993  1.365833  1.855674  2.336209  1.990515  2.081534   \n",
       "\n",
       "   mre_lm_6  mre_lm_7  mre_lm_8  ...  mre_lm_10  mre_lm_11  mre_lm_12  \\\n",
       "0  1.293222  1.003807  1.111924  ...   1.228982    1.22199   1.310788   \n",
       "\n",
       "   mre_lm_13  mre_lm_14  mre_lm_15  mre_lm_16  mre_lm_17  mre_lm_18  \\\n",
       "0   1.445467   1.596004   2.931107   1.534811   1.733431   1.763074   \n",
       "\n",
       "   record_time  \n",
       "0  0916-121804  \n",
       "\n",
       "[1 rows x 21 columns]"
      ]
     },
     "execution_count": 16,
     "metadata": {},
     "output_type": "execute_result"
    }
   ],
   "source": [
    "%matplotlib inline\n",
    "import csv\n",
    "import pandas as pd\n",
    "import matplotlib.pyplot as plt\n",
    "import seaborn as sns\n",
    "import numpy as np\n",
    "\n",
    "data1 = pd.read_csv('../tmp/adaploss.csv')\n",
    "data2 = pd.read_csv('../tmp/baseline_heatmap.csv')\n",
    "# print(data1)\n",
    "# print(data2)\n",
    "data1"
   ]
  },
  {
   "cell_type": "code",
   "execution_count": 17,
   "metadata": {},
   "outputs": [
    {
     "data": {
      "text/html": [
       "<div>\n",
       "<style scoped>\n",
       "    .dataframe tbody tr th:only-of-type {\n",
       "        vertical-align: middle;\n",
       "    }\n",
       "\n",
       "    .dataframe tbody tr th {\n",
       "        vertical-align: top;\n",
       "    }\n",
       "\n",
       "    .dataframe thead th {\n",
       "        text-align: right;\n",
       "    }\n",
       "</style>\n",
       "<table border=\"1\" class=\"dataframe\">\n",
       "  <thead>\n",
       "    <tr style=\"text-align: right;\">\n",
       "      <th></th>\n",
       "      <th>mre</th>\n",
       "      <th>mre_lm_0</th>\n",
       "      <th>mre_lm_1</th>\n",
       "      <th>mre_lm_2</th>\n",
       "      <th>mre_lm_3</th>\n",
       "      <th>mre_lm_4</th>\n",
       "      <th>mre_lm_5</th>\n",
       "      <th>mre_lm_6</th>\n",
       "      <th>mre_lm_7</th>\n",
       "      <th>mre_lm_8</th>\n",
       "      <th>...</th>\n",
       "      <th>mre_lm_10</th>\n",
       "      <th>mre_lm_11</th>\n",
       "      <th>mre_lm_12</th>\n",
       "      <th>mre_lm_13</th>\n",
       "      <th>mre_lm_14</th>\n",
       "      <th>mre_lm_15</th>\n",
       "      <th>mre_lm_16</th>\n",
       "      <th>mre_lm_17</th>\n",
       "      <th>mre_lm_18</th>\n",
       "      <th>record_time</th>\n",
       "    </tr>\n",
       "  </thead>\n",
       "  <tbody>\n",
       "    <tr>\n",
       "      <th>0</th>\n",
       "      <td>1.590971</td>\n",
       "      <td>1.227855</td>\n",
       "      <td>1.353168</td>\n",
       "      <td>1.913167</td>\n",
       "      <td>2.187402</td>\n",
       "      <td>1.835753</td>\n",
       "      <td>2.084585</td>\n",
       "      <td>1.349957</td>\n",
       "      <td>1.045528</td>\n",
       "      <td>1.118097</td>\n",
       "      <td>...</td>\n",
       "      <td>1.272065</td>\n",
       "      <td>1.179722</td>\n",
       "      <td>1.569034</td>\n",
       "      <td>1.363342</td>\n",
       "      <td>1.542967</td>\n",
       "      <td>2.68137</td>\n",
       "      <td>1.514212</td>\n",
       "      <td>1.691109</td>\n",
       "      <td>1.654198</td>\n",
       "      <td>0916-121754</td>\n",
       "    </tr>\n",
       "  </tbody>\n",
       "</table>\n",
       "<p>1 rows × 21 columns</p>\n",
       "</div>"
      ],
      "text/plain": [
       "        mre  mre_lm_0  mre_lm_1  mre_lm_2  mre_lm_3  mre_lm_4  mre_lm_5  \\\n",
       "0  1.590971  1.227855  1.353168  1.913167  2.187402  1.835753  2.084585   \n",
       "\n",
       "   mre_lm_6  mre_lm_7  mre_lm_8  ...  mre_lm_10  mre_lm_11  mre_lm_12  \\\n",
       "0  1.349957  1.045528  1.118097  ...   1.272065   1.179722   1.569034   \n",
       "\n",
       "   mre_lm_13  mre_lm_14  mre_lm_15  mre_lm_16  mre_lm_17  mre_lm_18  \\\n",
       "0   1.363342   1.542967    2.68137   1.514212   1.691109   1.654198   \n",
       "\n",
       "   record_time  \n",
       "0  0916-121754  \n",
       "\n",
       "[1 rows x 21 columns]"
      ]
     },
     "execution_count": 17,
     "metadata": {},
     "output_type": "execute_result"
    }
   ],
   "source": [
    "data2"
   ]
  },
  {
   "cell_type": "code",
   "execution_count": 19,
   "metadata": {},
   "outputs": [
    {
     "data": {
      "text/plain": [
       "[<matplotlib.lines.Line2D at 0x7fba16fd96a0>]"
      ]
     },
     "execution_count": 19,
     "metadata": {},
     "output_type": "execute_result"
    },
    {
     "data": {
      "image/png": "[encoded data removed]",
      "text/plain": [
       "<Figure size 432x288 with 1 Axes>"
      ]
     },
     "metadata": {
      "needs_background": "light"
     },
     "output_type": "display_data"
    }
   ],
   "source": [
    "# data1['mre_lm_0']\n",
    "llist1 = [data1[f'mre_lm_{i}'][0] for i in range(19)]\n",
    "llist2 = [data2[f'mre_lm_{i}'][0] for i in range(19)]\n",
    "\n",
    "llist3 = np.array([0.428,0.25,0.398,0.939,0.243,0.403,0.563,0.655,0.598,0.296,0.222,0.209,0.096,0.193,0.131,0.414,0.242,0.26,0.656]) *3\n",
    "\n",
    "plt.plot(np.arange(19), llist1)\n",
    "plt.plot(np.arange(19), llist2)\n",
    "plt.plot(np.arange(19), llist3)\n"
   ]
  },
  {
   "cell_type": "code",
   "execution_count": null,
   "metadata": {},
   "outputs": [],
   "source": []
  },
  {
   "cell_type": "code",
   "execution_count": null,
   "metadata": {},
   "outputs": [],
   "source": []
  }
 ],
 "metadata": {
  "kernelspec": {
   "display_name": "Python 3.8.0 ('py38')",
   "language": "python",
   "name": "python3"
  },
  "language_info": {
   "codemirror_mode": {
    "name": "ipython",
    "version": 3
   },
   "file_extension": ".py",
   "mimetype": "text/x-python",
   "name": "python",
   "nbconvert_exporter": "python",
   "pygments_lexer": "ipython3",
   "version": "3.8.0"
  },
  "orig_nbformat": 4,
  "vscode": {
   "interpreter": {
    "hash": "566aed230cdd1367dfe2c8bd7c2599f618f4b35809e6a08f2a020cd341aabc2d"
   }
  }
 },
 "nbformat": 4,
 "nbformat_minor": 2
}
