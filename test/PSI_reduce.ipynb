{
 "cells": [
  {
   "cell_type": "markdown",
   "metadata": {},
   "source": [
    "PSI reduction with more module"
   ]
  },
  {
   "cell_type": "code",
   "execution_count": 2,
   "metadata": {},
   "outputs": [],
   "source": [
    "import os\n",
    "os.chdir(\"..\")"
   ]
  },
  {
   "cell_type": "code",
   "execution_count": 3,
   "metadata": {},
   "outputs": [],
   "source": [
    "import numpy as np\n",
    "\n",
    "epoch = 450 \n",
    "pth = 'baseline_ps64_3'\n",
    "data_path = f\"./tmp/tester_gtv3/ssl_{pth}_gtv1_epoch_{epoch}.npy\"\n",
    "res1 = np.load(data_path)\n"
   ]
  },
  {
   "cell_type": "code",
   "execution_count": 12,
   "metadata": {},
   "outputs": [
    {
     "data": {
      "text/plain": [
       "(0.8979038386364476, 0.8498743518910711)"
      ]
     },
     "execution_count": 12,
     "metadata": {},
     "output_type": "execute_result"
    }
   ],
   "source": [
    "res1.mean(), np.array([rr * (i+0.5)**0.25  for i, rr in enumerate(res1)]).mean() / ((np.arange(0,7)+0.5)**0.3).mean()"
   ]
  },
  {
   "cell_type": "code",
   "execution_count": null,
   "metadata": {},
   "outputs": [],
   "source": [
    "res1.shape"
   ]
  },
  {
   "cell_type": "code",
   "execution_count": 31,
   "metadata": {},
   "outputs": [
    {
     "data": {
      "text/plain": [
       "(array([0.98057298, 0.96820733, 0.97199695, 0.9736241 , 0.99424884,\n",
       "        0.99826564, 0.9979905 ]),\n",
       " 0.9835580510097636,\n",
       " 0.9853276007822014)"
      ]
     },
     "execution_count": 31,
     "metadata": {},
     "output_type": "execute_result"
    }
   ],
   "source": [
    "data_path = \"./tmp/tester_gtv3/_tmp_baseline450.npy\"\n",
    "data = np.load(data_path)\n",
    "ratio = 0.3\n",
    "ratio_list = [0.5**3]\n",
    "data, data.mean(), np.array([rr * (i+0.5)**ratio  for i, rr in enumerate(data)]).mean() / ((np.arange(0,7)+0.5)**ratio).mean()"
   ]
  },
  {
   "cell_type": "code",
   "execution_count": 32,
   "metadata": {},
   "outputs": [
    {
     "data": {
      "text/plain": [
       "[Text(0, 0, 'bs'),\n",
       " Text(1, 0, 'weight'),\n",
       " Text(2, 0, 'aug'),\n",
       " Text(3, 0, 'fea'),\n",
       " Text(4, 0, 'imba')]"
      ]
     },
     "execution_count": 32,
     "metadata": {},
     "output_type": "execute_result"
    },
    {
     "data": {
      "image/png": "[encoded data removed]",
      "text/plain": [
       "<Figure size 432x288 with 1 Axes>"
      ]
     },
     "metadata": {},
     "output_type": "display_data"
    }
   ],
   "source": [
    "values = [0.9835580510097636, 0.9853276007822014, 0.8498743518910711, 0.81269846175915, 0.80831984038659]\n",
    "%matplotlib inline\n",
    "import matplotlib.pyplot as plt\n",
    "plt.style.use('ggplot')\n",
    "fig = plt.figure()\n",
    "ax = fig.add_subplot(1,1,1)\n",
    "ax.plot(values)\n",
    "ax.set_xticks([0,1,2,3,4])\n",
    "ax.set_xticklabels(['bs', 'weight', 'aug', 'fea', 'imba'])"
   ]
  },
  {
   "cell_type": "code",
   "execution_count": null,
   "metadata": {},
   "outputs": [],
   "source": []
  }
 ],
 "metadata": {
  "kernelspec": {
   "display_name": "Python 3.8.0 ('py38')",
   "language": "python",
   "name": "python3"
  },
  "language_info": {
   "codemirror_mode": {
    "name": "ipython",
    "version": 3
   },
   "file_extension": ".py",
   "mimetype": "text/x-python",
   "name": "python",
   "nbconvert_exporter": "python",
   "pygments_lexer": "ipython3",
   "version": "3.8.0"
  },
  "orig_nbformat": 4,
  "vscode": {
   "interpreter": {
    "hash": "566aed230cdd1367dfe2c8bd7c2599f618f4b35809e6a08f2a020cd341aabc2d"
   }
  }
 },
 "nbformat": 4,
 "nbformat_minor": 2
}
